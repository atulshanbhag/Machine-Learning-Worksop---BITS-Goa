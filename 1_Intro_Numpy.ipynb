{
 "cells": [
  {
   "cell_type": "markdown",
   "metadata": {
    "collapsed": true
   },
   "source": [
    "## Getting Started & Introduction to Numpy ##\n",
    "This introduction will teach you to do:\n",
    "\n",
    "a) Learn to use the Jupyter Notebook and execute commands.\n",
    "\n",
    "b) Creating Lists in Python.\n",
    "\n",
    "c) Creating Numpy Arrays\n",
    "\n",
    "d) Understand the difference between the Python list and Numpy arrays."
   ]
  },
  {
   "cell_type": "code",
   "execution_count": 1,
   "metadata": {
    "collapsed": false,
    "scrolled": false
   },
   "outputs": [
    {
     "name": "stdout",
     "output_type": "stream",
     "text": [
      "Hi there! Machine Learning is easy!!\n",
      " Print To \n",
      " Next Line\n"
     ]
    }
   ],
   "source": [
    "# Test whether you are able to print something\n",
    "print 'Hi there! Machine Learning is easy!!'\n",
    "\n",
    "#Notice that you can use \\n\n",
    "print ' Print To \\n Next Line'"
   ]
  },
  {
   "cell_type": "code",
   "execution_count": null,
   "metadata": {
    "collapsed": false
   },
   "outputs": [],
   "source": [
    "# This is a list in Python. list is similar to an array!\n",
    "list1 = [1,2,\"Three\"]\n",
    "\n",
    "print list1\n",
    "\n",
    "print list1[0]\n",
    "\n",
    "print 'Elements in the list are:'\n",
    "for element in list1:\n",
    "    print element"
   ]
  },
  {
   "cell_type": "code",
   "execution_count": 2,
   "metadata": {
    "collapsed": false
   },
   "outputs": [
    {
     "name": "stdout",
     "output_type": "stream",
     "text": [
      "[[1, 2, 3], [4, 5, 6], [7, 8, 9]]\n",
      "2\n"
     ]
    }
   ],
   "source": [
    "list_of_lists = [[1,2,3],[4,5,6],[7,8,9]]\n",
    "\n",
    "print list_of_lists\n",
    "\n",
    "print list_of_lists[0][1]"
   ]
  },
  {
   "cell_type": "code",
   "execution_count": null,
   "metadata": {
    "collapsed": false
   },
   "outputs": [],
   "source": [
    "#Import statement for importing Numpy.\n",
    "import numpy as np\n",
    "\n",
    "#This is how we can create a Numpy array\n",
    "numpy_array = np.array([[1,2,3],[4,5,6],[7,8,9]])\n",
    "    \n",
    "#print the array\n",
    "print numpy_array"
   ]
  },
  {
   "cell_type": "code",
   "execution_count": null,
   "metadata": {
    "collapsed": false
   },
   "outputs": [],
   "source": [
    "#Array shape\n",
    "print numpy_array.shape"
   ]
  },
  {
   "cell_type": "code",
   "execution_count": null,
   "metadata": {
    "collapsed": false
   },
   "outputs": [],
   "source": [
    "#Indexing Numpy arrays\n",
    "print numpy_array[0,1]"
   ]
  },
  {
   "cell_type": "code",
   "execution_count": null,
   "metadata": {
    "collapsed": false
   },
   "outputs": [],
   "source": [
    "#Slicing Numy arrays\n",
    "\n",
    "print(numpy_array[:,1])\n",
    " \n",
    "print '\\n'\n",
    "\n",
    "print numpy_array[0:2, 0:2]\n",
    "\n",
    "print '\\n'\n",
    "\n",
    "print numpy_array[1:, 1:]"
   ]
  },
  {
   "cell_type": "code",
   "execution_count": null,
   "metadata": {
    "collapsed": false,
    "scrolled": true
   },
   "outputs": [],
   "source": [
    "# Create 2 new Numpy arrays and add them together. Print the result.\n",
    "\n",
    "numpy_array1 = np.array([1,2,3,4])\n",
    "numpy_array2 = np.array([1,2,3,4])\n",
    "\n",
    "# This is how we can add two Numpy arrays\n",
    "numpy_array3 = numpy_array1 + numpy_array2\n",
    "\n",
    "# print the array\n",
    "print 'Addition of numpy arrays:'\n",
    "print numpy_array3"
   ]
  },
  {
   "cell_type": "markdown",
   "metadata": {},
   "source": [
    "## Check point ##\n",
    "\n",
    "Using NumPy, we can much more efficiently analyze data than we can using lists.\n",
    "\n",
    "NumPy arrays are more faster and efficient compared to Python lists.\n",
    "\n",
    "**Exercise for later**\n",
    "\n",
    "Try out other operations on Numpy Array - Subtraction, Multiplication, Dot Product! "
   ]
  },
  {
   "cell_type": "code",
   "execution_count": null,
   "metadata": {
    "collapsed": true
   },
   "outputs": [],
   "source": []
  }
 ],
 "metadata": {
  "anaconda-cloud": {},
  "kernelspec": {
   "display_name": "Python [Root]",
   "language": "python",
   "name": "Python [Root]"
  },
  "language_info": {
   "codemirror_mode": {
    "name": "ipython",
    "version": 2
   },
   "file_extension": ".py",
   "mimetype": "text/x-python",
   "name": "python",
   "nbconvert_exporter": "python",
   "pygments_lexer": "ipython2",
   "version": "2.7.11"
  }
 },
 "nbformat": 4,
 "nbformat_minor": 1
}
