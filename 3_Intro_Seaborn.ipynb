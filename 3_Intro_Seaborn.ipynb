{
 "cells": [
  {
   "cell_type": "markdown",
   "metadata": {},
   "source": [
    "## Introduction to Seaborn ##\n",
    "\n",
    "We will learn:\n",
    "\n",
    "a) Understand how to do data visualizations in the Python\n",
    "\n",
    "b) Use matplotlib to draw plots - lineplot, histograms, scatterplots\n",
    "\n",
    "c) Use Seaborn to create statistically meaningful plots "
   ]
  },
  {
   "cell_type": "code",
   "execution_count": 1,
   "metadata": {
    "collapsed": true
   },
   "outputs": [],
   "source": [
    "#Remember these will become the standard imports from now on!\n",
    "import numpy as np\n",
    "from numpy.random import randn\n",
    "from pandas import Series,DataFrame\n",
    "import pandas as pd\n",
    "\n",
    "# New import for matplotlib\n",
    "import matplotlib.pyplot as plt\n",
    "%matplotlib inline"
   ]
  },
  {
   "cell_type": "markdown",
   "metadata": {},
   "source": [
    "** Line Charts **\n",
    "\n",
    "Line charts is for connecting (x,y) co-ordinates using lines. Hence, can be used for sine, cosine functions too!"
   ]
  },
  {
   "cell_type": "code",
   "execution_count": 3,
   "metadata": {
    "collapsed": false
   },
   "outputs": [
    {
     "data": {
      "image/png": "[encoded data removed]",
      "text/plain": [
       "<matplotlib.figure.Figure at 0x96e9a20>"
      ]
     },
     "metadata": {},
     "output_type": "display_data"
    }
   ],
   "source": [
    "#Generate x,y co-ordinates \n",
    "\n",
    "# Linearly spaced data - starting point, ending point, no.of points in between.\n",
    "x = np.linspace(0,10,100)\n",
    "\n",
    "y = np.cos(x)\n",
    "\n",
    "plt.plot(x,y)\n",
    "plt.show()"
   ]
  },
  {
   "cell_type": "code",
   "execution_count": 4,
   "metadata": {
    "collapsed": false
   },
   "outputs": [
    {
     "data": {
      "image/png": "[encoded data removed]",
      "text/plain": [
       "<matplotlib.figure.Figure at 0x98c74e0>"
      ]
     },
     "metadata": {},
     "output_type": "display_data"
    }
   ],
   "source": [
    "# Let's try it together :\n",
    "# Try changing the x =  np.linspace(0,10,10) to generate 100 points.\n",
    "# Plot the values again and print\n",
    "#\n",
    "# Add X-axis label, Y-axis-label, Title\n",
    "# Use the following functions:\n",
    "plt.xlabel(\"X\") \n",
    "plt.ylabel(\"Sin(X)\") \n",
    "plt.title(\"sine curve\")\n",
    "plt.plot(x,y)\n",
    "plt.show()"
   ]
  },
  {
   "cell_type": "markdown",
   "metadata": {},
   "source": [
    "** Scatter Plots **\n",
    "\n",
    "Scatter plots are used to identify the spread of the data."
   ]
  },
  {
   "cell_type": "code",
   "execution_count": 5,
   "metadata": {
    "collapsed": false
   },
   "outputs": [
    {
     "name": "stdout",
     "output_type": "stream",
     "text": [
      "[[  35.75761893   67.59066954]\n",
      " [  28.81684742   60.85413282]\n",
      " [  99.95848131  196.90739698]\n",
      " [  66.80974831  125.31112852]\n",
      " [  58.21569264  115.78578459]\n",
      " [  53.82107634  110.76277271]\n",
      " [  81.29608217  157.98528569]\n",
      " [  80.64869706  159.61941373]\n",
      " [  78.25281369  149.00386554]\n",
      " [  16.86348369   31.46759088]\n",
      " [  90.79914756  184.18521966]\n",
      " [  53.31273701  103.22061016]\n",
      " [  71.61878902  143.27181836]\n",
      " [  18.41059178   46.73641801]\n",
      " [  57.12434676  107.1237942 ]\n",
      " [  81.13468392  168.30937401]\n",
      " [  82.01525542  166.82994267]\n",
      " [  36.92490825   70.50145559]\n",
      " [  44.58712604   96.86937025]\n",
      " [  26.66235446   50.37323584]\n",
      " [  74.06505712  145.51917071]\n",
      " [  17.74057673   46.55187461]\n",
      " [   6.81974382   13.24378631]\n",
      " [  26.31736009   62.5006665 ]\n",
      " [  82.80411905  159.91664958]\n",
      " [  39.44653696   77.98420415]\n",
      " [  76.72812059  147.26918314]\n",
      " [  42.21585614   83.6452954 ]\n",
      " [  94.35857584  191.95607269]\n",
      " [  42.14178513   91.73273416]\n",
      " [   3.21124861    8.25141677]\n",
      " [   6.8856734    16.09638942]\n",
      " [  13.87577216   33.35444214]\n",
      " [  63.29740364  131.50574553]\n",
      " [  60.49251936  128.69884306]\n",
      " [  79.60728523  160.3103805 ]\n",
      " [  83.44436306  160.60324574]\n",
      " [  54.89207011  104.40029316]\n",
      " [  62.04594417  126.96945605]\n",
      " [  66.65375794  124.51916761]\n",
      " [  61.31981316  125.21741443]\n",
      " [  47.31955299   98.71948438]\n",
      " [  81.1509876   166.43245548]\n",
      " [  91.02151367  179.23687261]\n",
      " [  16.84346201   33.77723374]\n",
      " [  76.50643657  161.37296513]\n",
      " [  71.86570468  138.575401  ]\n",
      " [   9.84808948   17.90332828]\n",
      " [  35.78971241   74.10859171]\n",
      " [  35.888692     74.82132297]\n",
      " [  90.82944871  179.24154705]\n",
      " [   7.26207284    6.43437238]\n",
      " [  35.35928817   78.08635679]\n",
      " [  79.07925376  154.59178976]\n",
      " [  21.55345833   50.0307539 ]\n",
      " [  79.47642778  165.44196619]\n",
      " [  48.76796664  110.89728797]\n",
      " [  54.79386201  114.69188511]\n",
      " [  87.50352552  186.74420631]\n",
      " [  38.94913047   70.69722298]\n",
      " [   9.39561282   19.17903005]\n",
      " [  11.12118682   27.02295992]\n",
      " [  46.13555826   87.29244922]\n",
      " [  85.69757358  167.92461412]\n",
      " [  50.1102964    96.02054844]\n",
      " [  11.07366673   24.94632465]\n",
      " [  22.22813085   54.00414588]\n",
      " [  67.5539548   133.16525443]\n",
      " [  12.78718566   28.00622322]\n",
      " [  46.96549084  100.60558947]\n",
      " [   4.84854065   13.8572726 ]\n",
      " [  40.53733193   82.59066294]\n",
      " [  26.33046127   50.23180391]\n",
      " [  38.88472635   79.48177242]\n",
      " [  93.83826653  191.32431784]\n",
      " [  60.08165997  120.49511544]\n",
      " [  50.11396522  111.35232289]\n",
      " [  17.71868528   44.93760649]\n",
      " [  85.07303114  172.13320308]\n",
      " [  41.32150973   84.889236  ]\n",
      " [  35.45154709   69.91899124]\n",
      " [  74.02102554  149.77864633]\n",
      " [  90.5197211   187.59390974]\n",
      " [  34.54059704   66.32685895]\n",
      " [  94.56166213  189.14496411]\n",
      " [  52.95626785  103.44683588]\n",
      " [  80.10643641  158.52943007]\n",
      " [  49.82275758   98.69883963]\n",
      " [  61.78172531  122.64739506]\n",
      " [  60.28610836  124.76334632]\n",
      " [  77.32069019  155.67749312]\n",
      " [  15.64635875   35.41060825]\n",
      " [  71.54061834  151.32345871]\n",
      " [  62.45239811  129.43395879]\n",
      " [  79.05983237  163.09690261]\n",
      " [  72.19769344  142.89852264]\n",
      " [  71.41775342  148.09420854]\n",
      " [  31.00882008   63.79687625]\n",
      " [  40.32528222   86.72368533]]\n"
     ]
    }
   ],
   "source": [
    "#Load the data using pandas\n",
    "array = pd.read_csv(\"scatter_plot.csv\").as_matrix()\n",
    "\n",
    "## TRY IT\n",
    "print(array)"
   ]
  },
  {
   "cell_type": "code",
   "execution_count": 6,
   "metadata": {
    "collapsed": false
   },
   "outputs": [
    {
     "data": {
      "text/plain": [
       "<matplotlib.collections.PathCollection at 0x9e22eb8>"
      ]
     },
     "execution_count": 6,
     "metadata": {},
     "output_type": "execute_result"
    },
    {
     "data": {
      "image/png": "[encoded data removed]",
      "text/plain": [
       "<matplotlib.figure.Figure at 0x9c54518>"
      ]
     },
     "metadata": {},
     "output_type": "display_data"
    }
   ],
   "source": [
    "x = array[:,0]\n",
    "y = array[:,1]\n",
    "\n",
    "plt.scatter(x,y)\n",
    "## TRY IT - You can add title and other labels and then run the cell!!"
   ]
  },
  {
   "cell_type": "code",
   "execution_count": 7,
   "metadata": {
    "collapsed": false
   },
   "outputs": [
    {
     "data": {
      "text/plain": [
       "(array([ 10.,   9.,   5.,  13.,  10.,  10.,   8.,  16.,  10.,   8.]),\n",
       " array([  3.21124861,  12.88597188,  22.56069515,  32.23541842,\n",
       "         41.91014169,  51.58486496,  61.25958823,  70.9343115 ,\n",
       "         80.60903477,  90.28375804,  99.95848131]),\n",
       " <a list of 10 Patch objects>)"
      ]
     },
     "execution_count": 7,
     "metadata": {},
     "output_type": "execute_result"
    },
    {
     "data": {
      "image/png": "[encoded data removed]",
      "text/plain": [
       "<matplotlib.figure.Figure at 0x9e47f28>"
      ]
     },
     "metadata": {},
     "output_type": "display_data"
    }
   ],
   "source": [
    "plt.hist(x)\n",
    "## TRY IT: plot the histogram on y"
   ]
  },
  {
   "cell_type": "code",
   "execution_count": 8,
   "metadata": {
    "collapsed": false
   },
   "outputs": [
    {
     "data": {
      "text/plain": [
       "(array([ 5.,  5.,  5.,  4.,  3.,  2.,  7.,  6.,  4.,  6.,  5.,  5.,  5.,\n",
       "         3.,  7.,  9.,  8.,  2.,  7.,  1.]),\n",
       " array([  3.21124861,   8.04861024,  12.88597188,  17.72333351,\n",
       "         22.56069515,  27.39805678,  32.23541842,  37.07278005,\n",
       "         41.91014169,  46.74750332,  51.58486496,  56.42222659,\n",
       "         61.25958823,  66.09694986,  70.9343115 ,  75.77167313,\n",
       "         80.60903477,  85.4463964 ,  90.28375804,  95.12111967,  99.95848131]),\n",
       " <a list of 20 Patch objects>)"
      ]
     },
     "execution_count": 8,
     "metadata": {},
     "output_type": "execute_result"
    },
    {
     "data": {
      "image/png": "[encoded data removed]",
      "text/plain": [
       "<matplotlib.figure.Figure at 0xa02d550>"
      ]
     },
     "metadata": {},
     "output_type": "display_data"
    }
   ],
   "source": [
    "plt.hist(x, bins=20)"
   ]
  },
  {
   "cell_type": "markdown",
   "metadata": {
    "collapsed": true
   },
   "source": [
    "## Seaborn ##\n",
    "\n",
    "b) creates aesthetically pleasing plots by default\n",
    "\n",
    "c) creates statistically meaningful plots\n",
    "\n",
    "d) understands pandas DataFrame so the two work well together"
   ]
  },
  {
   "cell_type": "code",
   "execution_count": 12,
   "metadata": {
    "collapsed": false
   },
   "outputs": [],
   "source": [
    "# New import for seaborn\n",
    "import seaborn as sns"
   ]
  },
  {
   "cell_type": "code",
   "execution_count": 13,
   "metadata": {
    "collapsed": false
   },
   "outputs": [
    {
     "data": {
      "text/plain": [
       "<matplotlib.axes._subplots.AxesSubplot at 0xc318a20>"
      ]
     },
     "execution_count": 13,
     "metadata": {},
     "output_type": "execute_result"
    },
    {
     "data": {
      "image/png": "[encoded data removed]",
      "text/plain": [
       "<matplotlib.figure.Figure at 0xc318358>"
      ]
     },
     "metadata": {},
     "output_type": "display_data"
    }
   ],
   "source": [
    "# Plotting univariate distributions\n",
    "x = randn(100)\n",
    "sns.distplot(x, kde=False)\n",
    "\n",
    "# Try changing the kde parameter to True and plot again"
   ]
  },
  {
   "cell_type": "code",
   "execution_count": null,
   "metadata": {
    "collapsed": false
   },
   "outputs": [],
   "source": [
    "# Plotting bivariate distributions\n",
    "\n",
    "# Scatterplots\n",
    "tips = sns.load_dataset(\"tips\")\n",
    "\n",
    "print tips.head()\n",
    "\n",
    "sns.jointplot(\"total_bill\", \"tip\", data=tips)\n",
    "\n",
    "# Hexbin plots for more concise picture\n",
    "# Try setting kind=\"hex\" and plot again"
   ]
  },
  {
   "cell_type": "code",
   "execution_count": 15,
   "metadata": {
    "collapsed": false
   },
   "outputs": [
    {
     "ename": "NameError",
     "evalue": "name 'tips' is not defined",
     "output_type": "error",
     "traceback": [
      "\u001b[1;31m---------------------------------------------------------------------------\u001b[0m",
      "\u001b[1;31mNameError\u001b[0m                                 Traceback (most recent call last)",
      "\u001b[1;32m<ipython-input-15-5b38b400e99e>\u001b[0m in \u001b[0;36m<module>\u001b[1;34m()\u001b[0m\n\u001b[0;32m      1\u001b[0m \u001b[1;31m#Visualizing pairwise relationships between all variables in a dataset\u001b[0m\u001b[1;33m\u001b[0m\u001b[1;33m\u001b[0m\u001b[0m\n\u001b[1;32m----> 2\u001b[1;33m \u001b[0msns\u001b[0m\u001b[1;33m.\u001b[0m\u001b[0mpairplot\u001b[0m\u001b[1;33m(\u001b[0m\u001b[0mtips\u001b[0m\u001b[1;33m)\u001b[0m\u001b[1;33m\u001b[0m\u001b[0m\n\u001b[0m",
      "\u001b[1;31mNameError\u001b[0m: name 'tips' is not defined"
     ]
    }
   ],
   "source": [
    "#Visualizing pairwise relationships between all variables in a dataset\n",
    "sns.pairplot(tips)"
   ]
  },
  {
   "cell_type": "code",
   "execution_count": 17,
   "metadata": {
    "collapsed": false
   },
   "outputs": [
    {
     "ename": "NameError",
     "evalue": "name 'tips' is not defined",
     "output_type": "error",
     "traceback": [
      "\u001b[1;31m---------------------------------------------------------------------------\u001b[0m",
      "\u001b[1;31mNameError\u001b[0m                                 Traceback (most recent call last)",
      "\u001b[1;32m<ipython-input-17-69fdbfd79bc7>\u001b[0m in \u001b[0;36m<module>\u001b[1;34m()\u001b[0m\n\u001b[0;32m      1\u001b[0m \u001b[1;31m# Build conditional plots : this let's us see what the data looks like when segmented by one or more variables\u001b[0m\u001b[1;33m\u001b[0m\u001b[1;33m\u001b[0m\u001b[0m\n\u001b[1;32m----> 2\u001b[1;33m \u001b[0msns\u001b[0m\u001b[1;33m.\u001b[0m\u001b[0mfactorplot\u001b[0m\u001b[1;33m(\u001b[0m\u001b[1;34m'sex'\u001b[0m\u001b[1;33m,\u001b[0m \u001b[1;34m'tip'\u001b[0m\u001b[1;33m,\u001b[0m \u001b[0mdata\u001b[0m\u001b[1;33m=\u001b[0m\u001b[0mtips\u001b[0m\u001b[1;33m)\u001b[0m\u001b[1;33m\u001b[0m\u001b[0m\n\u001b[0m",
      "\u001b[1;31mNameError\u001b[0m: name 'tips' is not defined"
     ]
    }
   ],
   "source": [
    "# Build conditional plots : this let's us see what the data looks like when segmented by one or more variables\n",
    "sns.factorplot('sex', 'tip', data=tips)"
   ]
  },
  {
   "cell_type": "code",
   "execution_count": null,
   "metadata": {
    "collapsed": false
   },
   "outputs": [],
   "source": [
    "# Best fitting linear regression line \n",
    "sns.lmplot(\"total_bill\", \"tip\", data=tips)"
   ]
  },
  {
   "cell_type": "code",
   "execution_count": null,
   "metadata": {
    "collapsed": false
   },
   "outputs": [],
   "source": [
    "# We might also check if smokers tip differently than non-smokers\n",
    "sns.lmplot(\"total_bill\", \"tip\", data=tips, col=\"smoker\")\n",
    "\n",
    "# Try with different genders"
   ]
  }
 ],
 "metadata": {
  "anaconda-cloud": {},
  "kernelspec": {
   "display_name": "Python [Root]",
   "language": "python",
   "name": "Python [Root]"
  },
  "language_info": {
   "codemirror_mode": {
    "name": "ipython",
    "version": 2
   },
   "file_extension": ".py",
   "mimetype": "text/x-python",
   "name": "python",
   "nbconvert_exporter": "python",
   "pygments_lexer": "ipython2",
   "version": "2.7.11"
  }
 },
 "nbformat": 4,
 "nbformat_minor": 1
}
