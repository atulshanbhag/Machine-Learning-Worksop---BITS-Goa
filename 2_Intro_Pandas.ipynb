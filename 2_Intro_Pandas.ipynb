{
 "cells": [
  {
   "cell_type": "markdown",
   "metadata": {
    "collapsed": true
   },
   "source": [
    "## Introduction to Pandas ##\n",
    "We will learn:\n",
    "\n",
    "a) What is Pandas?\n",
    "\n",
    "b) What is a Series ?\n",
    "\n",
    "c) What is a DataFrame?\n",
    "\n",
    "d) How to read data from a file to DataFrame ?\n",
    "\n",
    "e) Exploring the Dataframe."
   ]
  },
  {
   "cell_type": "code",
   "execution_count": 2,
   "metadata": {
    "collapsed": false
   },
   "outputs": [],
   "source": [
    "import numpy as np\n",
    "\n",
    "from pandas import Series,DataFrame\n",
    "import pandas as pd"
   ]
  },
  {
   "cell_type": "code",
   "execution_count": 3,
   "metadata": {
    "collapsed": false
   },
   "outputs": [
    {
     "name": "stdout",
     "output_type": "stream",
     "text": [
      "0     3\n",
      "1     6\n",
      "2     9\n",
      "3    12\n",
      "dtype: int64\n"
     ]
    }
   ],
   "source": [
    "# Series\n",
    "# A Series is a labelled collection of values similar to the NumPy vector. \n",
    "\n",
    "series = Series([3,6,9,12])\n",
    "\n",
    "print series"
   ]
  },
  {
   "cell_type": "code",
   "execution_count": 4,
   "metadata": {
    "collapsed": false
   },
   "outputs": [
    {
     "name": "stdout",
     "output_type": "stream",
     "text": [
      "[ 3  6  9 12]\n",
      "[0 1 2 3]\n"
     ]
    }
   ],
   "source": [
    "# Lets print values\n",
    "print series.values\n",
    "\n",
    "# Lets print index \n",
    "print series.index.values"
   ]
  },
  {
   "cell_type": "code",
   "execution_count": 5,
   "metadata": {
    "collapsed": false
   },
   "outputs": [
    {
     "name": "stdout",
     "output_type": "stream",
     "text": [
      "USSR       8700000\n",
      "Germany    4300000\n",
      "China      3000000\n",
      "Japan      2100000\n",
      "USA         400000\n",
      "dtype: int64\n"
     ]
    }
   ],
   "source": [
    "# The main advantage of Series objects is the ability to utilize non-integer labels/index.\n",
    "\n",
    "ww2_casuality = Series([8700000,4300000,3000000,2100000,400000],index=['USSR','Germany','China','Japan','USA'])\n",
    "\n",
    "print ww2_casuality"
   ]
  },
  {
   "cell_type": "code",
   "execution_count": 6,
   "metadata": {
    "collapsed": false,
    "scrolled": true
   },
   "outputs": [
    {
     "name": "stdout",
     "output_type": "stream",
     "text": [
      "400000\n",
      "\n",
      "\n",
      "True\n",
      "\n",
      "\n",
      "USSR        True\n",
      "Germany     True\n",
      "China      False\n",
      "Japan      False\n",
      "USA        False\n",
      "dtype: bool\n",
      "\n",
      "\n",
      "USSR       8700000\n",
      "Germany    4300000\n",
      "dtype: int64\n"
     ]
    }
   ],
   "source": [
    "# Now we can use index values to select values in Series\n",
    "print ww2_casuality['USA']\n",
    "print '\\n'\n",
    "\n",
    "# Check if USSR is in Series index\n",
    "print ('USSR' in ww2_casuality)\n",
    "print '\\n'\n",
    "\n",
    "# Check who had casualties greater than 4 million\n",
    "casualities_greater_than_4_million = ww2_casuality > 4000000\n",
    "print casualities_greater_than_4_million\n",
    "print '\\n'\n",
    "\n",
    "print ww2_casuality[casualities_greater_than_4_million]"
   ]
  },
  {
   "cell_type": "code",
   "execution_count": 7,
   "metadata": {
    "collapsed": false
   },
   "outputs": [
    {
     "data": {
      "text/plain": [
       "Countries\n",
       "USSR       8700000\n",
       "Germany    4300000\n",
       "China      3000000\n",
       "Japan      2100000\n",
       "USA         400000\n",
       "Name: Casualities in World War 2, dtype: int64"
      ]
     },
     "execution_count": 7,
     "metadata": {},
     "output_type": "execute_result"
    }
   ],
   "source": [
    "# Naming the series and index\n",
    "ww2_casuality.name = \"Casualities in World War 2\"\n",
    "ww2_casuality.index.name = \"Countries\"\n",
    "ww2_casuality"
   ]
  },
  {
   "cell_type": "markdown",
   "metadata": {},
   "source": [
    "### Now we'll learn DataFrame ###\n",
    "\n",
    "A dataframe is a highly efficient, 2-dimensional data structure that provides a suite of methods and attributes to quickly explore, analyze, and visualize data."
   ]
  },
  {
   "cell_type": "code",
   "execution_count": 8,
   "metadata": {
    "collapsed": false
   },
   "outputs": [],
   "source": [
    "# Read data from csv file\n",
    "df = pd.read_csv(\"ship_data.csv\")"
   ]
  },
  {
   "cell_type": "code",
   "execution_count": 9,
   "metadata": {
    "collapsed": false
   },
   "outputs": [
    {
     "data": {
      "text/html": [
       "<div>\n",
       "<table border=\"1\" class=\"dataframe\">\n",
       "  <thead>\n",
       "    <tr style=\"text-align: right;\">\n",
       "      <th></th>\n",
       "      <th>Passenger ID</th>\n",
       "      <th>Class</th>\n",
       "      <th>Name</th>\n",
       "      <th>Gender</th>\n",
       "      <th>Age</th>\n",
       "      <th>Siblings Count</th>\n",
       "      <th>Parents Count</th>\n",
       "      <th>Fare</th>\n",
       "      <th>Embarked</th>\n",
       "      <th>Survived</th>\n",
       "    </tr>\n",
       "  </thead>\n",
       "  <tbody>\n",
       "    <tr>\n",
       "      <th>0</th>\n",
       "      <td>1</td>\n",
       "      <td>3</td>\n",
       "      <td>Alexander Harris</td>\n",
       "      <td>male</td>\n",
       "      <td>22.0</td>\n",
       "      <td>1</td>\n",
       "      <td>0</td>\n",
       "      <td>7250.0</td>\n",
       "      <td>New York</td>\n",
       "      <td>0</td>\n",
       "    </tr>\n",
       "    <tr>\n",
       "      <th>1</th>\n",
       "      <td>2</td>\n",
       "      <td>1</td>\n",
       "      <td>Frank Parsons</td>\n",
       "      <td>female</td>\n",
       "      <td>38.0</td>\n",
       "      <td>1</td>\n",
       "      <td>0</td>\n",
       "      <td>71283.3</td>\n",
       "      <td>Los Angeles</td>\n",
       "      <td>1</td>\n",
       "    </tr>\n",
       "    <tr>\n",
       "      <th>2</th>\n",
       "      <td>3</td>\n",
       "      <td>3</td>\n",
       "      <td>Anthony Churchill</td>\n",
       "      <td>female</td>\n",
       "      <td>26.0</td>\n",
       "      <td>0</td>\n",
       "      <td>0</td>\n",
       "      <td>7925.0</td>\n",
       "      <td>New York</td>\n",
       "      <td>1</td>\n",
       "    </tr>\n",
       "    <tr>\n",
       "      <th>3</th>\n",
       "      <td>4</td>\n",
       "      <td>1</td>\n",
       "      <td>Alexandra Hughes</td>\n",
       "      <td>female</td>\n",
       "      <td>35.0</td>\n",
       "      <td>1</td>\n",
       "      <td>0</td>\n",
       "      <td>53100.0</td>\n",
       "      <td>New York</td>\n",
       "      <td>1</td>\n",
       "    </tr>\n",
       "    <tr>\n",
       "      <th>4</th>\n",
       "      <td>5</td>\n",
       "      <td>3</td>\n",
       "      <td>Joan Fraser</td>\n",
       "      <td>male</td>\n",
       "      <td>35.0</td>\n",
       "      <td>0</td>\n",
       "      <td>0</td>\n",
       "      <td>8050.0</td>\n",
       "      <td>New York</td>\n",
       "      <td>0</td>\n",
       "    </tr>\n",
       "    <tr>\n",
       "      <th>5</th>\n",
       "      <td>6</td>\n",
       "      <td>3</td>\n",
       "      <td>Megan Clarkson</td>\n",
       "      <td>male</td>\n",
       "      <td>NaN</td>\n",
       "      <td>0</td>\n",
       "      <td>0</td>\n",
       "      <td>8458.3</td>\n",
       "      <td>Chicago</td>\n",
       "      <td>0</td>\n",
       "    </tr>\n",
       "    <tr>\n",
       "      <th>6</th>\n",
       "      <td>7</td>\n",
       "      <td>1</td>\n",
       "      <td>Molly Bower</td>\n",
       "      <td>male</td>\n",
       "      <td>54.0</td>\n",
       "      <td>0</td>\n",
       "      <td>0</td>\n",
       "      <td>51862.5</td>\n",
       "      <td>New York</td>\n",
       "      <td>0</td>\n",
       "    </tr>\n",
       "    <tr>\n",
       "      <th>7</th>\n",
       "      <td>8</td>\n",
       "      <td>3</td>\n",
       "      <td>Steven Jones</td>\n",
       "      <td>male</td>\n",
       "      <td>2.0</td>\n",
       "      <td>3</td>\n",
       "      <td>1</td>\n",
       "      <td>21075.0</td>\n",
       "      <td>New York</td>\n",
       "      <td>0</td>\n",
       "    </tr>\n",
       "    <tr>\n",
       "      <th>8</th>\n",
       "      <td>9</td>\n",
       "      <td>3</td>\n",
       "      <td>Bernadette Vance</td>\n",
       "      <td>female</td>\n",
       "      <td>27.0</td>\n",
       "      <td>0</td>\n",
       "      <td>2</td>\n",
       "      <td>11133.3</td>\n",
       "      <td>New York</td>\n",
       "      <td>1</td>\n",
       "    </tr>\n",
       "    <tr>\n",
       "      <th>9</th>\n",
       "      <td>10</td>\n",
       "      <td>2</td>\n",
       "      <td>Irene Chapman</td>\n",
       "      <td>female</td>\n",
       "      <td>-20.0</td>\n",
       "      <td>1</td>\n",
       "      <td>0</td>\n",
       "      <td>30070.8</td>\n",
       "      <td>Los Angeles</td>\n",
       "      <td>1</td>\n",
       "    </tr>\n",
       "  </tbody>\n",
       "</table>\n",
       "</div>"
      ],
      "text/plain": [
       "   Passenger ID  Class               Name  Gender   Age  Siblings Count  \\\n",
       "0             1      3   Alexander Harris    male  22.0               1   \n",
       "1             2      1      Frank Parsons  female  38.0               1   \n",
       "2             3      3  Anthony Churchill  female  26.0               0   \n",
       "3             4      1   Alexandra Hughes  female  35.0               1   \n",
       "4             5      3        Joan Fraser    male  35.0               0   \n",
       "5             6      3     Megan Clarkson    male   NaN               0   \n",
       "6             7      1        Molly Bower    male  54.0               0   \n",
       "7             8      3       Steven Jones    male   2.0               3   \n",
       "8             9      3   Bernadette Vance  female  27.0               0   \n",
       "9            10      2      Irene Chapman  female -20.0               1   \n",
       "\n",
       "   Parents Count     Fare     Embarked  Survived  \n",
       "0              0   7250.0     New York         0  \n",
       "1              0  71283.3  Los Angeles         1  \n",
       "2              0   7925.0     New York         1  \n",
       "3              0  53100.0     New York         1  \n",
       "4              0   8050.0     New York         0  \n",
       "5              0   8458.3      Chicago         0  \n",
       "6              0  51862.5     New York         0  \n",
       "7              1  21075.0     New York         0  \n",
       "8              2  11133.3     New York         1  \n",
       "9              0  30070.8  Los Angeles         1  "
      ]
     },
     "execution_count": 9,
     "metadata": {},
     "output_type": "execute_result"
    }
   ],
   "source": [
    "# Now that we've read the dataset into a dataframe, we can start using the dataframe methods to explore the data\n",
    "df.head(10)"
   ]
  },
  {
   "cell_type": "code",
   "execution_count": 10,
   "metadata": {
    "collapsed": false
   },
   "outputs": [
    {
     "data": {
      "text/html": [
       "<div>\n",
       "<table border=\"1\" class=\"dataframe\">\n",
       "  <thead>\n",
       "    <tr style=\"text-align: right;\">\n",
       "      <th></th>\n",
       "      <th>Passenger ID</th>\n",
       "      <th>Class</th>\n",
       "      <th>Name</th>\n",
       "      <th>Gender</th>\n",
       "      <th>Age</th>\n",
       "      <th>Siblings Count</th>\n",
       "      <th>Parents Count</th>\n",
       "      <th>Fare</th>\n",
       "      <th>Embarked</th>\n",
       "      <th>Survived</th>\n",
       "    </tr>\n",
       "  </thead>\n",
       "  <tbody>\n",
       "    <tr>\n",
       "      <th>876</th>\n",
       "      <td>877</td>\n",
       "      <td>3</td>\n",
       "      <td>Isaac Roberts</td>\n",
       "      <td>male</td>\n",
       "      <td>20.0</td>\n",
       "      <td>0</td>\n",
       "      <td>0</td>\n",
       "      <td>9845.8</td>\n",
       "      <td>New York</td>\n",
       "      <td>0</td>\n",
       "    </tr>\n",
       "    <tr>\n",
       "      <th>877</th>\n",
       "      <td>878</td>\n",
       "      <td>3</td>\n",
       "      <td>Audrey Fisher</td>\n",
       "      <td>male</td>\n",
       "      <td>19.0</td>\n",
       "      <td>0</td>\n",
       "      <td>0</td>\n",
       "      <td>7895.8</td>\n",
       "      <td>New York</td>\n",
       "      <td>0</td>\n",
       "    </tr>\n",
       "    <tr>\n",
       "      <th>878</th>\n",
       "      <td>879</td>\n",
       "      <td>3</td>\n",
       "      <td>David Allan</td>\n",
       "      <td>male</td>\n",
       "      <td>NaN</td>\n",
       "      <td>0</td>\n",
       "      <td>0</td>\n",
       "      <td>7895.8</td>\n",
       "      <td>New York</td>\n",
       "      <td>0</td>\n",
       "    </tr>\n",
       "    <tr>\n",
       "      <th>879</th>\n",
       "      <td>880</td>\n",
       "      <td>1</td>\n",
       "      <td>Victor Springer</td>\n",
       "      <td>female</td>\n",
       "      <td>56.0</td>\n",
       "      <td>0</td>\n",
       "      <td>1</td>\n",
       "      <td>83158.3</td>\n",
       "      <td>Los Angeles</td>\n",
       "      <td>1</td>\n",
       "    </tr>\n",
       "    <tr>\n",
       "      <th>880</th>\n",
       "      <td>881</td>\n",
       "      <td>2</td>\n",
       "      <td>Alison Oliver</td>\n",
       "      <td>female</td>\n",
       "      <td>25.0</td>\n",
       "      <td>0</td>\n",
       "      <td>1</td>\n",
       "      <td>26000.0</td>\n",
       "      <td>New York</td>\n",
       "      <td>1</td>\n",
       "    </tr>\n",
       "    <tr>\n",
       "      <th>881</th>\n",
       "      <td>882</td>\n",
       "      <td>3</td>\n",
       "      <td>William Walker</td>\n",
       "      <td>male</td>\n",
       "      <td>33.0</td>\n",
       "      <td>0</td>\n",
       "      <td>0</td>\n",
       "      <td>7895.8</td>\n",
       "      <td>New York</td>\n",
       "      <td>0</td>\n",
       "    </tr>\n",
       "    <tr>\n",
       "      <th>882</th>\n",
       "      <td>883</td>\n",
       "      <td>3</td>\n",
       "      <td>Dorothy Rampling</td>\n",
       "      <td>female</td>\n",
       "      <td>22.0</td>\n",
       "      <td>0</td>\n",
       "      <td>0</td>\n",
       "      <td>10516.7</td>\n",
       "      <td>New York</td>\n",
       "      <td>0</td>\n",
       "    </tr>\n",
       "    <tr>\n",
       "      <th>883</th>\n",
       "      <td>884</td>\n",
       "      <td>2</td>\n",
       "      <td>Max Poole</td>\n",
       "      <td>male</td>\n",
       "      <td>28.0</td>\n",
       "      <td>0</td>\n",
       "      <td>0</td>\n",
       "      <td>10500.0</td>\n",
       "      <td>New York</td>\n",
       "      <td>0</td>\n",
       "    </tr>\n",
       "    <tr>\n",
       "      <th>884</th>\n",
       "      <td>885</td>\n",
       "      <td>3</td>\n",
       "      <td>Simon Rutherford</td>\n",
       "      <td>male</td>\n",
       "      <td>25.0</td>\n",
       "      <td>0</td>\n",
       "      <td>0</td>\n",
       "      <td>7050.0</td>\n",
       "      <td>New York</td>\n",
       "      <td>0</td>\n",
       "    </tr>\n",
       "    <tr>\n",
       "      <th>885</th>\n",
       "      <td>886</td>\n",
       "      <td>3</td>\n",
       "      <td>Diane Simpson</td>\n",
       "      <td>female</td>\n",
       "      <td>39.0</td>\n",
       "      <td>0</td>\n",
       "      <td>5</td>\n",
       "      <td>29125.0</td>\n",
       "      <td>Chicago</td>\n",
       "      <td>0</td>\n",
       "    </tr>\n",
       "    <tr>\n",
       "      <th>886</th>\n",
       "      <td>887</td>\n",
       "      <td>2</td>\n",
       "      <td>Bella Tucker</td>\n",
       "      <td>male</td>\n",
       "      <td>27.0</td>\n",
       "      <td>0</td>\n",
       "      <td>0</td>\n",
       "      <td>13000.0</td>\n",
       "      <td>New York</td>\n",
       "      <td>0</td>\n",
       "    </tr>\n",
       "    <tr>\n",
       "      <th>887</th>\n",
       "      <td>888</td>\n",
       "      <td>1</td>\n",
       "      <td>Boris Howard</td>\n",
       "      <td>female</td>\n",
       "      <td>19.0</td>\n",
       "      <td>0</td>\n",
       "      <td>0</td>\n",
       "      <td>30000.0</td>\n",
       "      <td>New York</td>\n",
       "      <td>1</td>\n",
       "    </tr>\n",
       "    <tr>\n",
       "      <th>888</th>\n",
       "      <td>889</td>\n",
       "      <td>3</td>\n",
       "      <td>Cameron Lambert</td>\n",
       "      <td>female</td>\n",
       "      <td>NaN</td>\n",
       "      <td>1</td>\n",
       "      <td>2</td>\n",
       "      <td>23450.0</td>\n",
       "      <td>New York</td>\n",
       "      <td>0</td>\n",
       "    </tr>\n",
       "    <tr>\n",
       "      <th>889</th>\n",
       "      <td>890</td>\n",
       "      <td>1</td>\n",
       "      <td>Theresa Hill</td>\n",
       "      <td>male</td>\n",
       "      <td>26.0</td>\n",
       "      <td>0</td>\n",
       "      <td>0</td>\n",
       "      <td>30000.0</td>\n",
       "      <td>Los Angeles</td>\n",
       "      <td>1</td>\n",
       "    </tr>\n",
       "    <tr>\n",
       "      <th>890</th>\n",
       "      <td>891</td>\n",
       "      <td>3</td>\n",
       "      <td>Caroline Fraser</td>\n",
       "      <td>male</td>\n",
       "      <td>32.0</td>\n",
       "      <td>0</td>\n",
       "      <td>0</td>\n",
       "      <td>7750.0</td>\n",
       "      <td>Chicago</td>\n",
       "      <td>0</td>\n",
       "    </tr>\n",
       "  </tbody>\n",
       "</table>\n",
       "</div>"
      ],
      "text/plain": [
       "     Passenger ID  Class              Name  Gender   Age  Siblings Count  \\\n",
       "876           877      3     Isaac Roberts    male  20.0               0   \n",
       "877           878      3     Audrey Fisher    male  19.0               0   \n",
       "878           879      3       David Allan    male   NaN               0   \n",
       "879           880      1   Victor Springer  female  56.0               0   \n",
       "880           881      2     Alison Oliver  female  25.0               0   \n",
       "881           882      3    William Walker    male  33.0               0   \n",
       "882           883      3  Dorothy Rampling  female  22.0               0   \n",
       "883           884      2         Max Poole    male  28.0               0   \n",
       "884           885      3  Simon Rutherford    male  25.0               0   \n",
       "885           886      3     Diane Simpson  female  39.0               0   \n",
       "886           887      2      Bella Tucker    male  27.0               0   \n",
       "887           888      1      Boris Howard  female  19.0               0   \n",
       "888           889      3   Cameron Lambert  female   NaN               1   \n",
       "889           890      1      Theresa Hill    male  26.0               0   \n",
       "890           891      3   Caroline Fraser    male  32.0               0   \n",
       "\n",
       "     Parents Count     Fare     Embarked  Survived  \n",
       "876              0   9845.8     New York         0  \n",
       "877              0   7895.8     New York         0  \n",
       "878              0   7895.8     New York         0  \n",
       "879              1  83158.3  Los Angeles         1  \n",
       "880              1  26000.0     New York         1  \n",
       "881              0   7895.8     New York         0  \n",
       "882              0  10516.7     New York         0  \n",
       "883              0  10500.0     New York         0  \n",
       "884              0   7050.0     New York         0  \n",
       "885              5  29125.0      Chicago         0  \n",
       "886              0  13000.0     New York         0  \n",
       "887              0  30000.0     New York         1  \n",
       "888              2  23450.0     New York         0  \n",
       "889              0  30000.0  Los Angeles         1  \n",
       "890              0   7750.0      Chicago         0  "
      ]
     },
     "execution_count": 10,
     "metadata": {},
     "output_type": "execute_result"
    }
   ],
   "source": [
    "# Let's try it together :\n",
    "# a) Try printing out the last 15 values in the df.\n",
    "df.tail(15)"
   ]
  },
  {
   "cell_type": "code",
   "execution_count": 11,
   "metadata": {
    "collapsed": false
   },
   "outputs": [
    {
     "data": {
      "text/plain": [
       "891"
      ]
     },
     "execution_count": 11,
     "metadata": {},
     "output_type": "execute_result"
    }
   ],
   "source": [
    "# Lenght of dataframe\n",
    "len(df)"
   ]
  },
  {
   "cell_type": "code",
   "execution_count": 12,
   "metadata": {
    "collapsed": false
   },
   "outputs": [
    {
     "name": "stdout",
     "output_type": "stream",
     "text": [
      "['Passenger ID' 'Class' 'Name' 'Gender' 'Age' 'Siblings Count'\n",
      " 'Parents Count' 'Fare' 'Embarked' 'Survived']\n"
     ]
    }
   ],
   "source": [
    "# To access the full list of column names, use the columns attribute\n",
    "column_names = df.columns.values\n",
    "\n",
    "print column_names"
   ]
  },
  {
   "cell_type": "code",
   "execution_count": 13,
   "metadata": {
    "collapsed": false
   },
   "outputs": [
    {
     "name": "stdout",
     "output_type": "stream",
     "text": [
      "0     1\n",
      "1     2\n",
      "2     3\n",
      "3     4\n",
      "4     5\n",
      "5     6\n",
      "6     7\n",
      "7     8\n",
      "8     9\n",
      "9    10\n",
      "Name: Passenger ID, dtype: int64\n"
     ]
    }
   ],
   "source": [
    "# Selecting Individual Columns\n",
    "series = df[\"Passenger ID\"] \n",
    "print series.head(10)"
   ]
  },
  {
   "cell_type": "code",
   "execution_count": 14,
   "metadata": {
    "collapsed": false
   },
   "outputs": [
    {
     "name": "stdout",
     "output_type": "stream",
     "text": [
      "   Passenger ID               Name\n",
      "0             1   Alexander Harris\n",
      "1             2      Frank Parsons\n",
      "2             3  Anthony Churchill\n",
      "3             4   Alexandra Hughes\n",
      "4             5        Joan Fraser\n",
      "5             6     Megan Clarkson\n",
      "6             7        Molly Bower\n",
      "7             8       Steven Jones\n",
      "8             9   Bernadette Vance\n",
      "9            10      Irene Chapman\n"
     ]
    }
   ],
   "source": [
    "# Selecting Multiple Columns\n",
    "df_subset = df[[\"Passenger ID\", \"Name\"]]\n",
    "print df_subset.head(10)"
   ]
  },
  {
   "cell_type": "code",
   "execution_count": 16,
   "metadata": {
    "collapsed": false
   },
   "outputs": [
    {
     "data": {
      "text/html": [
       "<div>\n",
       "<table border=\"1\" class=\"dataframe\">\n",
       "  <thead>\n",
       "    <tr style=\"text-align: right;\">\n",
       "      <th></th>\n",
       "      <th>Passenger ID</th>\n",
       "      <th>Class</th>\n",
       "      <th>Name</th>\n",
       "      <th>Gender</th>\n",
       "      <th>Age</th>\n",
       "      <th>Siblings Count</th>\n",
       "      <th>Parents Count</th>\n",
       "      <th>Fare</th>\n",
       "      <th>Embarked</th>\n",
       "      <th>Survived</th>\n",
       "    </tr>\n",
       "  </thead>\n",
       "  <tbody>\n",
       "    <tr>\n",
       "      <th>1</th>\n",
       "      <td>2</td>\n",
       "      <td>1</td>\n",
       "      <td>Frank Parsons</td>\n",
       "      <td>female</td>\n",
       "      <td>38.0</td>\n",
       "      <td>1</td>\n",
       "      <td>0</td>\n",
       "      <td>71283.3</td>\n",
       "      <td>Los Angeles</td>\n",
       "      <td>1</td>\n",
       "    </tr>\n",
       "    <tr>\n",
       "      <th>2</th>\n",
       "      <td>3</td>\n",
       "      <td>3</td>\n",
       "      <td>Anthony Churchill</td>\n",
       "      <td>female</td>\n",
       "      <td>26.0</td>\n",
       "      <td>0</td>\n",
       "      <td>0</td>\n",
       "      <td>7925.0</td>\n",
       "      <td>New York</td>\n",
       "      <td>1</td>\n",
       "    </tr>\n",
       "    <tr>\n",
       "      <th>6</th>\n",
       "      <td>7</td>\n",
       "      <td>1</td>\n",
       "      <td>Molly Bower</td>\n",
       "      <td>male</td>\n",
       "      <td>54.0</td>\n",
       "      <td>0</td>\n",
       "      <td>0</td>\n",
       "      <td>51862.5</td>\n",
       "      <td>New York</td>\n",
       "      <td>0</td>\n",
       "    </tr>\n",
       "  </tbody>\n",
       "</table>\n",
       "</div>"
      ],
      "text/plain": [
       "   Passenger ID  Class               Name  Gender   Age  Siblings Count  \\\n",
       "1             2      1      Frank Parsons  female  38.0               1   \n",
       "2             3      3  Anthony Churchill  female  26.0               0   \n",
       "6             7      1        Molly Bower    male  54.0               0   \n",
       "\n",
       "   Parents Count     Fare     Embarked  Survived  \n",
       "1              0  71283.3  Los Angeles         1  \n",
       "2              0   7925.0     New York         1  \n",
       "6              0  51862.5     New York         0  "
      ]
     },
     "execution_count": 16,
     "metadata": {},
     "output_type": "execute_result"
    }
   ],
   "source": [
    "#Selecting Rows\n",
    "df.loc[[1, 2, 6]]"
   ]
  },
  {
   "cell_type": "code",
   "execution_count": 17,
   "metadata": {
    "collapsed": false
   },
   "outputs": [
    {
     "data": {
      "text/html": [
       "<div>\n",
       "<table border=\"1\" class=\"dataframe\">\n",
       "  <thead>\n",
       "    <tr style=\"text-align: right;\">\n",
       "      <th></th>\n",
       "      <th>Passenger ID</th>\n",
       "      <th>Class</th>\n",
       "      <th>Name</th>\n",
       "      <th>Gender</th>\n",
       "      <th>Age</th>\n",
       "      <th>Siblings Count</th>\n",
       "      <th>Parents Count</th>\n",
       "      <th>Fare</th>\n",
       "      <th>Embarked</th>\n",
       "      <th>Survived</th>\n",
       "    </tr>\n",
       "  </thead>\n",
       "  <tbody>\n",
       "    <tr>\n",
       "      <th>1</th>\n",
       "      <td>2</td>\n",
       "      <td>1</td>\n",
       "      <td>Frank Parsons</td>\n",
       "      <td>female</td>\n",
       "      <td>38.0</td>\n",
       "      <td>1</td>\n",
       "      <td>0</td>\n",
       "      <td>71283.3</td>\n",
       "      <td>Los Angeles</td>\n",
       "      <td>1</td>\n",
       "    </tr>\n",
       "    <tr>\n",
       "      <th>5</th>\n",
       "      <td>6</td>\n",
       "      <td>3</td>\n",
       "      <td>Megan Clarkson</td>\n",
       "      <td>male</td>\n",
       "      <td>NaN</td>\n",
       "      <td>0</td>\n",
       "      <td>0</td>\n",
       "      <td>8458.3</td>\n",
       "      <td>Chicago</td>\n",
       "      <td>0</td>\n",
       "    </tr>\n",
       "    <tr>\n",
       "      <th>10</th>\n",
       "      <td>11</td>\n",
       "      <td>3</td>\n",
       "      <td>Gavin Payne</td>\n",
       "      <td>female</td>\n",
       "      <td>4.0</td>\n",
       "      <td>1</td>\n",
       "      <td>1</td>\n",
       "      <td>16700.0</td>\n",
       "      <td>New York</td>\n",
       "      <td>1</td>\n",
       "    </tr>\n",
       "  </tbody>\n",
       "</table>\n",
       "</div>"
      ],
      "text/plain": [
       "    Passenger ID  Class            Name  Gender   Age  Siblings Count  \\\n",
       "1              2      1   Frank Parsons  female  38.0               1   \n",
       "5              6      3  Megan Clarkson    male   NaN               0   \n",
       "10            11      3     Gavin Payne  female   4.0               1   \n",
       "\n",
       "    Parents Count     Fare     Embarked  Survived  \n",
       "1               0  71283.3  Los Angeles         1  \n",
       "5               0   8458.3      Chicago         0  \n",
       "10              1  16700.0     New York         1  "
      ]
     },
     "execution_count": 17,
     "metadata": {},
     "output_type": "execute_result"
    }
   ],
   "source": [
    "df.loc[[1,5,10]]"
   ]
  },
  {
   "cell_type": "code",
   "execution_count": 18,
   "metadata": {
    "collapsed": false
   },
   "outputs": [
    {
     "data": {
      "text/html": [
       "<div>\n",
       "<table border=\"1\" class=\"dataframe\">\n",
       "  <thead>\n",
       "    <tr style=\"text-align: right;\">\n",
       "      <th></th>\n",
       "      <th>Passenger ID</th>\n",
       "      <th>Class</th>\n",
       "      <th>Name</th>\n",
       "      <th>Gender</th>\n",
       "      <th>Age</th>\n",
       "      <th>Siblings Count</th>\n",
       "      <th>Parents Count</th>\n",
       "      <th>Fare</th>\n",
       "      <th>Embarked</th>\n",
       "      <th>Survived</th>\n",
       "      <th>Alive/Dead</th>\n",
       "    </tr>\n",
       "  </thead>\n",
       "  <tbody>\n",
       "    <tr>\n",
       "      <th>0</th>\n",
       "      <td>1</td>\n",
       "      <td>3</td>\n",
       "      <td>Alexander Harris</td>\n",
       "      <td>male</td>\n",
       "      <td>22.0</td>\n",
       "      <td>1</td>\n",
       "      <td>0</td>\n",
       "      <td>7250.0</td>\n",
       "      <td>New York</td>\n",
       "      <td>0</td>\n",
       "      <td>Dead</td>\n",
       "    </tr>\n",
       "    <tr>\n",
       "      <th>1</th>\n",
       "      <td>2</td>\n",
       "      <td>1</td>\n",
       "      <td>Frank Parsons</td>\n",
       "      <td>female</td>\n",
       "      <td>38.0</td>\n",
       "      <td>1</td>\n",
       "      <td>0</td>\n",
       "      <td>71283.3</td>\n",
       "      <td>Los Angeles</td>\n",
       "      <td>1</td>\n",
       "      <td>Dead</td>\n",
       "    </tr>\n",
       "    <tr>\n",
       "      <th>2</th>\n",
       "      <td>3</td>\n",
       "      <td>3</td>\n",
       "      <td>Anthony Churchill</td>\n",
       "      <td>female</td>\n",
       "      <td>26.0</td>\n",
       "      <td>0</td>\n",
       "      <td>0</td>\n",
       "      <td>7925.0</td>\n",
       "      <td>New York</td>\n",
       "      <td>1</td>\n",
       "      <td>Dead</td>\n",
       "    </tr>\n",
       "    <tr>\n",
       "      <th>3</th>\n",
       "      <td>4</td>\n",
       "      <td>1</td>\n",
       "      <td>Alexandra Hughes</td>\n",
       "      <td>female</td>\n",
       "      <td>35.0</td>\n",
       "      <td>1</td>\n",
       "      <td>0</td>\n",
       "      <td>53100.0</td>\n",
       "      <td>New York</td>\n",
       "      <td>1</td>\n",
       "      <td>Dead</td>\n",
       "    </tr>\n",
       "    <tr>\n",
       "      <th>4</th>\n",
       "      <td>5</td>\n",
       "      <td>3</td>\n",
       "      <td>Joan Fraser</td>\n",
       "      <td>male</td>\n",
       "      <td>35.0</td>\n",
       "      <td>0</td>\n",
       "      <td>0</td>\n",
       "      <td>8050.0</td>\n",
       "      <td>New York</td>\n",
       "      <td>0</td>\n",
       "      <td>Dead</td>\n",
       "    </tr>\n",
       "  </tbody>\n",
       "</table>\n",
       "</div>"
      ],
      "text/plain": [
       "   Passenger ID  Class               Name  Gender   Age  Siblings Count  \\\n",
       "0             1      3   Alexander Harris    male  22.0               1   \n",
       "1             2      1      Frank Parsons  female  38.0               1   \n",
       "2             3      3  Anthony Churchill  female  26.0               0   \n",
       "3             4      1   Alexandra Hughes  female  35.0               1   \n",
       "4             5      3        Joan Fraser    male  35.0               0   \n",
       "\n",
       "   Parents Count     Fare     Embarked  Survived Alive/Dead  \n",
       "0              0   7250.0     New York         0       Dead  \n",
       "1              0  71283.3  Los Angeles         1       Dead  \n",
       "2              0   7925.0     New York         1       Dead  \n",
       "3              0  53100.0     New York         1       Dead  \n",
       "4              0   8050.0     New York         0       Dead  "
      ]
     },
     "execution_count": 18,
     "metadata": {},
     "output_type": "execute_result"
    }
   ],
   "source": [
    "# Try adding a column say Alive/Dead to the DataFrame \n",
    "df[\"Alive/Dead\"] = 'Dead'\n",
    "df.head()"
   ]
  },
  {
   "cell_type": "code",
   "execution_count": 19,
   "metadata": {
    "collapsed": false
   },
   "outputs": [
    {
     "name": "stdout",
     "output_type": "stream",
     "text": [
      "4    Alive\n",
      "0    Alive\n",
      "dtype: object\n"
     ]
    },
    {
     "data": {
      "text/html": [
       "<div>\n",
       "<table border=\"1\" class=\"dataframe\">\n",
       "  <thead>\n",
       "    <tr style=\"text-align: right;\">\n",
       "      <th></th>\n",
       "      <th>Passenger ID</th>\n",
       "      <th>Class</th>\n",
       "      <th>Name</th>\n",
       "      <th>Gender</th>\n",
       "      <th>Age</th>\n",
       "      <th>Siblings Count</th>\n",
       "      <th>Parents Count</th>\n",
       "      <th>Fare</th>\n",
       "      <th>Embarked</th>\n",
       "      <th>Survived</th>\n",
       "      <th>Alive/Dead</th>\n",
       "    </tr>\n",
       "  </thead>\n",
       "  <tbody>\n",
       "    <tr>\n",
       "      <th>0</th>\n",
       "      <td>1</td>\n",
       "      <td>3</td>\n",
       "      <td>Alexander Harris</td>\n",
       "      <td>male</td>\n",
       "      <td>22.0</td>\n",
       "      <td>1</td>\n",
       "      <td>0</td>\n",
       "      <td>7250.0</td>\n",
       "      <td>New York</td>\n",
       "      <td>0</td>\n",
       "      <td>Alive</td>\n",
       "    </tr>\n",
       "    <tr>\n",
       "      <th>1</th>\n",
       "      <td>2</td>\n",
       "      <td>1</td>\n",
       "      <td>Frank Parsons</td>\n",
       "      <td>female</td>\n",
       "      <td>38.0</td>\n",
       "      <td>1</td>\n",
       "      <td>0</td>\n",
       "      <td>71283.3</td>\n",
       "      <td>Los Angeles</td>\n",
       "      <td>1</td>\n",
       "      <td>NaN</td>\n",
       "    </tr>\n",
       "    <tr>\n",
       "      <th>2</th>\n",
       "      <td>3</td>\n",
       "      <td>3</td>\n",
       "      <td>Anthony Churchill</td>\n",
       "      <td>female</td>\n",
       "      <td>26.0</td>\n",
       "      <td>0</td>\n",
       "      <td>0</td>\n",
       "      <td>7925.0</td>\n",
       "      <td>New York</td>\n",
       "      <td>1</td>\n",
       "      <td>NaN</td>\n",
       "    </tr>\n",
       "    <tr>\n",
       "      <th>3</th>\n",
       "      <td>4</td>\n",
       "      <td>1</td>\n",
       "      <td>Alexandra Hughes</td>\n",
       "      <td>female</td>\n",
       "      <td>35.0</td>\n",
       "      <td>1</td>\n",
       "      <td>0</td>\n",
       "      <td>53100.0</td>\n",
       "      <td>New York</td>\n",
       "      <td>1</td>\n",
       "      <td>NaN</td>\n",
       "    </tr>\n",
       "    <tr>\n",
       "      <th>4</th>\n",
       "      <td>5</td>\n",
       "      <td>3</td>\n",
       "      <td>Joan Fraser</td>\n",
       "      <td>male</td>\n",
       "      <td>35.0</td>\n",
       "      <td>0</td>\n",
       "      <td>0</td>\n",
       "      <td>8050.0</td>\n",
       "      <td>New York</td>\n",
       "      <td>0</td>\n",
       "      <td>Alive</td>\n",
       "    </tr>\n",
       "  </tbody>\n",
       "</table>\n",
       "</div>"
      ],
      "text/plain": [
       "   Passenger ID  Class               Name  Gender   Age  Siblings Count  \\\n",
       "0             1      3   Alexander Harris    male  22.0               1   \n",
       "1             2      1      Frank Parsons  female  38.0               1   \n",
       "2             3      3  Anthony Churchill  female  26.0               0   \n",
       "3             4      1   Alexandra Hughes  female  35.0               1   \n",
       "4             5      3        Joan Fraser    male  35.0               0   \n",
       "\n",
       "   Parents Count     Fare     Embarked  Survived Alive/Dead  \n",
       "0              0   7250.0     New York         0      Alive  \n",
       "1              0  71283.3  Los Angeles         1        NaN  \n",
       "2              0   7925.0     New York         1        NaN  \n",
       "3              0  53100.0     New York         1        NaN  \n",
       "4              0   8050.0     New York         0      Alive  "
      ]
     },
     "execution_count": 19,
     "metadata": {},
     "output_type": "execute_result"
    }
   ],
   "source": [
    "alive_or_dead = Series([\"Alive\",\"Alive\"],index=[4,0])\n",
    "\n",
    "print alive_or_dead\n",
    "df[\"Alive/Dead\"] = alive_or_dead\n",
    "df.head()"
   ]
  },
  {
   "cell_type": "code",
   "execution_count": 20,
   "metadata": {
    "collapsed": false
   },
   "outputs": [],
   "source": [
    "# Check what these return:\n",
    "#               1)type(df) - Check the datatype\n",
    "#               2)df.info  - Check the starting index"
   ]
  },
  {
   "cell_type": "code",
   "execution_count": 30,
   "metadata": {
    "collapsed": false
   },
   "outputs": [
    {
     "data": {
      "text/plain": [
       "numpy.ndarray"
      ]
     },
     "execution_count": 30,
     "metadata": {},
     "output_type": "execute_result"
    }
   ],
   "source": [
    "# Try out:\n",
    "#         1) matrix = df.as_matrix()\n",
    "#         2) Check the datatype of matrix\n",
    "#         3) Print df[0,0] and df[0]\n",
    "#         4) Check the datatype of df[0]\n",
    "# Try out:\n",
    "#         1) Print df.iloc[0] \n",
    "#         2) Print df.ix[0]\n",
    "#         3) Check the datatype of df.ix[0] \n",
    "matrix = df.as_matrix()\n",
    "type(matrix)\n",
    "# print df.iloc[0]"
   ]
  },
  {
   "cell_type": "code",
   "execution_count": 33,
   "metadata": {
    "collapsed": false
   },
   "outputs": [
    {
     "name": "stdout",
     "output_type": "stream",
     "text": [
      "0    True\n",
      "1    True\n",
      "2    True\n",
      "3    True\n",
      "4    True\n",
      "Name: Passenger ID, dtype: bool\n"
     ]
    }
   ],
   "source": [
    "# Print the 'Passenger ID' column where the Passenger ID is less than 10\n",
    "# Hint: DataFrame can accept conditions such as: Passenger ID < 10.\n",
    "pessenger_id_less_than_10 = (df[\"Passenger ID\"] < 10)\n",
    "\n",
    "print pessenger_id_less_than_10.head()\n",
    "\n",
    "df[pessenger_id_less_than_10]"
   ]
  },
  {
   "cell_type": "code",
   "execution_count": 37,
   "metadata": {
    "collapsed": false
   },
   "outputs": [
    {
     "name": "stdout",
     "output_type": "stream",
     "text": [
      "     Passenger ID  Class                Name  Gender   Age  Siblings Count  \\\n",
      "1               2      1       Frank Parsons  female  38.0               1   \n",
      "3               4      1    Alexandra Hughes  female  35.0               1   \n",
      "6               7      1         Molly Bower    male  54.0               0   \n",
      "11             12      1       Melanie Scott  female  58.0               0   \n",
      "23             24      1      Maria Mitchell    male  -5.0               0   \n",
      "27             28      1       Steven Butler    male  19.0               3   \n",
      "30             31      1       Piers Coleman    male  40.0               0   \n",
      "31             32      1        Angela Paige  female   NaN               1   \n",
      "34             35      1    Penelope Manning    male  28.0               1   \n",
      "35             36      1    Bernadette Nolan    male  42.0               1   \n",
      "52             53      1           Una Vance  female  49.0               1   \n",
      "54             55      1     Steven McDonald    male  65.0               0   \n",
      "55             56      1           Tim Brown    male   NaN               0   \n",
      "61             62      1      Abigail Harris  female  38.0               0   \n",
      "62             63      1    Sebastian Fisher    male  45.0               1   \n",
      "64             65      1        Rose Forsyth    male   NaN               0   \n",
      "83             84      1        Faith Martin    male  28.0               0   \n",
      "88             89      1        Abigail Hart  female  23.0               3   \n",
      "92             93      1       Karen Wilkins    male  46.0               1   \n",
      "96             97      1         Alan Powell    male  71.0               0   \n",
      "97             98      1        Irene Greene    male  23.0               0   \n",
      "102           103      1  Benjamin Robertson    male  21.0               0   \n",
      "110           111      1   Jessica Robertson    male  47.0               0   \n",
      "118           119      1       Thomas Newman    male  24.0               0   \n",
      "124           125      1       Dylan Forsyth    male  54.0               0   \n",
      "136           137      1     Sebastian Clark  female  19.0               0   \n",
      "137           138      1           Max Baker    male  37.0               1   \n",
      "139           140      1      David Davidson    male  24.0               0   \n",
      "151           152      1    Katherine Martin  female  22.0               1   \n",
      "155           156      1       Yvonne Martin    male  51.0               0   \n",
      "..            ...    ...                 ...     ...   ...             ...   \n",
      "763           764      1         Diana White  female  36.0               1   \n",
      "765           766      1          Ella Avery  female  51.0               1   \n",
      "766           767      1         Rose Watson    male   NaN               0   \n",
      "779           780      1           Joe Brown  female  43.0               0   \n",
      "781           782      1        Olivia Allan  female  17.0               1   \n",
      "782           783      1      Abigail Hughes    male  29.0               0   \n",
      "789           790      1         John Graham    male  46.0               0   \n",
      "793           794      1         Audrey Dyer    male   NaN               0   \n",
      "796           797      1       Kylie Vaughan  female  49.0               0   \n",
      "802           803      1       Ryan Rampling    male  11.0               1   \n",
      "806           807      1         Jack Hunter    male  39.0               0   \n",
      "809           810      1        Yvonne Vance  female  33.0               1   \n",
      "815           816      1   Christopher Terry    male   NaN               0   \n",
      "820           821      1      Austin Lambert  female  52.0               1   \n",
      "822           823      1       Julian Bailey    male  38.0               0   \n",
      "829           830      1     Jonathan Hughes  female  62.0               0   \n",
      "835           836      1     Lillian Burgess  female  39.0               1   \n",
      "839           840      1       Adrian Wright    male   NaN               0   \n",
      "842           843      1        Lisa Forsyth  female  30.0               0   \n",
      "849           850      1     Melanie Forsyth  female   NaN               1   \n",
      "853           854      1           Emily Lee  female  16.0               0   \n",
      "856           857      1       Dorothy Blake  female  45.0               1   \n",
      "857           858      1    Benjamin Langdon    male  51.0               0   \n",
      "862           863      1     William Cameron  female  48.0               0   \n",
      "867           868      1           Leah Ince    male  31.0               0   \n",
      "871           872      1     Heather Ellison  female  47.0               1   \n",
      "872           873      1            John Lee    male  33.0               0   \n",
      "879           880      1     Victor Springer  female  56.0               0   \n",
      "887           888      1        Boris Howard  female  19.0               0   \n",
      "889           890      1        Theresa Hill    male  26.0               0   \n",
      "\n",
      "     Parents Count      Fare     Embarked  Survived Alive/Dead  \n",
      "1                0   71283.3  Los Angeles         1        NaN  \n",
      "3                0   53100.0     New York         1        NaN  \n",
      "6                0   51862.5     New York         0        NaN  \n",
      "11               0   26550.0     New York         1        NaN  \n",
      "23               0   35500.0     New York         1        NaN  \n",
      "27               2  263000.0     New York         0        NaN  \n",
      "30               0   27720.8  Los Angeles         0        NaN  \n",
      "31               0  146520.8  Los Angeles         1        NaN  \n",
      "34               0   82170.8  Los Angeles         0        NaN  \n",
      "35               0   52000.0     New York         0        NaN  \n",
      "52               0   76729.2  Los Angeles         1        NaN  \n",
      "54               1   61979.2  Los Angeles         0        NaN  \n",
      "55               0   35500.0     New York         1        NaN  \n",
      "61               0   80000.0          NaN         1        NaN  \n",
      "62               0   83475.0     New York         0        NaN  \n",
      "64               0   27720.8  Los Angeles         0        NaN  \n",
      "83               0   47100.0     New York         0        NaN  \n",
      "88               2  263000.0     New York         1        NaN  \n",
      "92               0   61175.0     New York         0        NaN  \n",
      "96               0   34654.2  Los Angeles         0        NaN  \n",
      "97               1   63358.3  Los Angeles         1        NaN  \n",
      "102              1   77287.5     New York         0        NaN  \n",
      "110              0   52000.0     New York         0        NaN  \n",
      "118              1  247520.8  Los Angeles         0        NaN  \n",
      "124              1   77287.5     New York         0        NaN  \n",
      "136              2   26283.3     New York         1        NaN  \n",
      "137              0   53100.0     New York         0        NaN  \n",
      "139              0   79200.0  Los Angeles         0        NaN  \n",
      "151              0   66600.0     New York         1        NaN  \n",
      "155              1   61379.2  Los Angeles         0        NaN  \n",
      "..             ...       ...          ...       ...        ...  \n",
      "763              2  120000.0     New York         1        NaN  \n",
      "765              0   77958.3     New York         1        NaN  \n",
      "766              0   39600.0  Los Angeles         0        NaN  \n",
      "779              1  211337.5     New York         1        NaN  \n",
      "781              0   57000.0     New York         1        NaN  \n",
      "782              0   30000.0     New York         0        NaN  \n",
      "789              0   79200.0  Los Angeles         0        NaN  \n",
      "793              0   30695.8  Los Angeles         0        NaN  \n",
      "796              0   25929.2     New York         1        NaN  \n",
      "802              2  120000.0     New York         1        NaN  \n",
      "806              0       0.0     New York         0        NaN  \n",
      "809              0   53100.0     New York         1        NaN  \n",
      "815              0       0.0     New York         0        NaN  \n",
      "820              1   93500.0     New York         1        NaN  \n",
      "822              0       0.0     New York         0        NaN  \n",
      "829              0   80000.0          NaN         1        NaN  \n",
      "835              1   83158.3  Los Angeles         1        NaN  \n",
      "839              0   29700.0  Los Angeles         1        NaN  \n",
      "842              0   31000.0  Los Angeles         1        NaN  \n",
      "849              0   89104.2  Los Angeles         1        NaN  \n",
      "853              1   39400.0     New York         1        NaN  \n",
      "856              1  164866.7     New York         1        NaN  \n",
      "857              0   26550.0     New York         1        NaN  \n",
      "862              0   25929.2     New York         1        NaN  \n",
      "867              0   50495.8     New York         0        NaN  \n",
      "871              1   52554.2     New York         1        NaN  \n",
      "872              0    5000.0     New York         0        NaN  \n",
      "879              1   83158.3  Los Angeles         1        NaN  \n",
      "887              0   30000.0     New York         1        NaN  \n",
      "889              0   30000.0  Los Angeles         1        NaN  \n",
      "\n",
      "[216 rows x 11 columns]\n"
     ]
    },
    {
     "data": {
      "text/plain": [
       "891"
      ]
     },
     "execution_count": 37,
     "metadata": {},
     "output_type": "execute_result"
    }
   ],
   "source": [
    "pessenger_in_first_class = (df[\"Class\"] == 1)\n",
    "print df[pessenger_in_first_class]"
   ]
  },
  {
   "cell_type": "code",
   "execution_count": 38,
   "metadata": {
    "collapsed": false
   },
   "outputs": [
    {
     "data": {
      "text/plain": [
       "891"
      ]
     },
     "execution_count": 38,
     "metadata": {},
     "output_type": "execute_result"
    }
   ],
   "source": [
    "# Try it, you can also add multiple conditions using logical operators (& and |)\n",
    "pessengers_in_first_class_with_id_less_than_10 = (df[\"Class\"] == 1) & (df[\"Passenger ID\"] < 10)\n",
    "df[pessengers_in_first_class_with_id_less_than_10]\n",
    "len(df)"
   ]
  },
  {
   "cell_type": "markdown",
   "metadata": {},
   "source": [
    "## Check point ##\n",
    "\n",
    "Pandas is used to load the data from file.\n",
    "\n",
    "In Pandas, Series can be thought of as column/row (1D), DataFrame as a table (2D).\n",
    "\n",
    "Pandas series/dataframe can be easily converted to numpy arrays.\n",
    "\n",
    "REMEMBER: DataFrame[0] - returns all values of  column '0'\n",
    "NumpyArray[0] - returns all values in the row '0'"
   ]
  }
 ],
 "metadata": {
  "anaconda-cloud": {},
  "kernelspec": {
   "display_name": "Python [Root]",
   "language": "python",
   "name": "Python [Root]"
  },
  "language_info": {
   "codemirror_mode": {
    "name": "ipython",
    "version": 2
   },
   "file_extension": ".py",
   "mimetype": "text/x-python",
   "name": "python",
   "nbconvert_exporter": "python",
   "pygments_lexer": "ipython2",
   "version": "2.7.11"
  }
 },
 "nbformat": 4,
 "nbformat_minor": 1
}
